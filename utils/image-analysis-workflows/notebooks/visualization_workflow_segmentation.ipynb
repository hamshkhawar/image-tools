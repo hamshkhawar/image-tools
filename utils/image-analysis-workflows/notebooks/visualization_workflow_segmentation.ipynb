{
 "cells": [
  {
   "cell_type": "markdown",
   "id": "db2a079c-50b8-4c75-95dd-f33319fff513",
   "metadata": {},
   "source": [
    "# Visualization Workflow"
   ]
  },
  {
   "cell_type": "markdown",
   "id": "7dbb23b7-43e4-4333-aba3-ceec3863d6cc",
   "metadata": {},
   "source": [
    "## Install packages"
   ]
  },
  {
   "cell_type": "code",
   "execution_count": 1,
   "id": "e7ea858f-9390-4687-9610-a32b03b7e630",
   "metadata": {},
   "outputs": [
    {
     "name": "stdout",
     "output_type": "stream",
     "text": [
      "Installing packages (this could take awhile)...\n",
      "Done!\n"
     ]
    }
   ],
   "source": [
    "print(\"Installing packages (this could take awhile)...\")\n",
    "\n",
    "import sys\n",
    "!{sys.executable} -m pip install -r visualization_requirements.txt --quiet --exists-action i\n",
    "print(\"Done!\")\n",
    "\n",
    "import os\n",
    "import pathlib\n",
    "from typing import Optional, Dict\n",
    "import time\n",
    "import warnings\n",
    "from functools import partial\n",
    "from utils import *\n",
    "import filepattern\n"
   ]
  },
  {
   "cell_type": "markdown",
   "id": "f1424a7d-46a3-4069-ad99-9a0e4ca120c6",
   "metadata": {},
   "source": [
    "## Inputs"
   ]
  },
  {
   "cell_type": "code",
   "execution_count": 5,
   "id": "1b5c2af8-aa5b-45f3-8332-4439b609ed6c",
   "metadata": {},
   "outputs": [],
   "source": [
    "inpDir = pathlib.Path('/opt/shared/notebooks/eastman/outputs/labels')\n",
    "outDir = pathlib.Path('/opt/shared/notebooks/eastman')\n",
    "platesNum=200\n",
    "dryrun=False\n"
   ]
  },
  {
   "cell_type": "markdown",
   "id": "1569ea9f-aca6-48ec-9a6e-6e09810b35f6",
   "metadata": {},
   "source": [
    "### Running All functions Sequentially"
   ]
  },
  {
   "cell_type": "code",
   "execution_count": 7,
   "id": "d6f27296-0342-4cf0-8727-2aef6118a050",
   "metadata": {},
   "outputs": [],
   "source": [
    "warnings.filterwarnings('ignore')\n",
    "\n",
    "def visualizations_workflow(inpDir:pathlib.Path,\n",
    "                    outDir: pathlib.Path,\n",
    "                    platesNum:int,\n",
    "                    dryrun:bool=True         \n",
    "                   ):\n",
    "    \n",
    "    # os.environ[\"CUDA_VISIBLE_DEVICES\"] = \"0\"\n",
    "    starttime= time.time() \n",
    "        \n",
    "    plates = [str(i).zfill(3) for i in range(1, platesNum+1)]\n",
    "\n",
    "\n",
    "    assert platesNum != 0, \"Number of Processing Plates should be greater than zero\"\n",
    "\n",
    "    filePatterns = ['p'+ pl +  '_x{x+}_y{y+}_wx{t}_wy{p}_c2.ome.tif'  for pl in plates]\n",
    "\n",
    "    assert len(filePatterns) == platesNum, \"Number of filepattern should be equivalent to number of plates\"\n",
    "\n",
    "\n",
    "\n",
    "    for plate, filePattern in zip(plates, filePatterns):\n",
    "        \n",
    "        \n",
    "        wstime= time.time() \n",
    "        \n",
    "        starttime= time.time() \n",
    "        \n",
    "        print('Step 1: Converting labelled images to binary')\n",
    "    \n",
    "        outpath = convert_label_to_binary(\n",
    "                    inpDir=inpDir,\n",
    "                    outDir=outDir,\n",
    "                    pattern=filePattern,\n",
    "                    dryrun=dryrun)\n",
    "\n",
    "        \n",
    "        endtime = round((time.time() - starttime)/60, 2)\n",
    "        print(f'Step 1: Completed in {endtime} minutes')\n",
    "\n",
    "        print(f'Workflow runs for plate:{plate} & filePattern:{filePattern}')\n",
    "        \n",
    "        print(f'Step 2: montage on plate: p{plate}')\n",
    "        \n",
    "        starttime= time.time() \n",
    "\n",
    "        stitchpath = montage(inpDir=outpath,\n",
    "                           outDir=outDir,\n",
    "                           filePattern=filePattern,\n",
    "                           dryrun=dryrun) \n",
    "\n",
    "        endtime = round((time.time() - starttime)/60, 2)\n",
    "        print(f'Step 2 completed in: {endtime} minutes')\n",
    "\n",
    "       \n",
    "        print(f'Step 3: assemble on plate: p{plate}')\n",
    "\n",
    "\n",
    "        starttime= time.time() \n",
    "        asspath = assemble(inpDir=outpath,\n",
    "                    outDir=outDir,\n",
    "                    stitchPath=stitchpath,\n",
    "                    filePattern=filePattern,\n",
    "                    dryrun=dryrun)\n",
    "\n",
    "        endtime = round((time.time() - starttime)/60, 2)\n",
    "        print(f'Step 3 completed in: {endtime} minutes')\n",
    "\n",
    "        print(f'Step 5: precomputeslide on plate: p{plate}')\n",
    "\n",
    "        starttime= time.time() \n",
    "    \n",
    "        outpre = pathlib.Path('/home/jovyan/shared/data/file-server/pyramids/eastmannew/zarrpyramids_segmentations')\n",
    "                               \n",
    "\n",
    "        precompath = precompute_slide(inpDir=asspath,\n",
    "                           outDir=outpre,\n",
    "                           plate=plate,\n",
    "                           imageType='segmentation',\n",
    "                           pyramidType=\"Zarr\",\n",
    "                           dryrun=dryrun)\n",
    "\n",
    "        endtime = round((time.time() - starttime)/60, 2)\n",
    "        print(f'Step 5: complete in {endtime} minutes')\n",
    "\n",
    "        pftime = round((time.time() - wstime)/60, 2)\n",
    "        \n",
    "        print(f'Runtime for visualization workflow for Segmentations: p{plate} is {pftime}')\n",
    "        \n",
    "\n",
    "    return\n",
    "\n",
    "\n",
    "visualizations_workflow(inpDir,\n",
    "                    outDir,\n",
    "                    platesNum,\n",
    "                    dryrun=False\n",
    "                \n",
    "                   )    "
   ]
  },
  {
   "cell_type": "code",
   "execution_count": null,
   "id": "4e87e0a2-9545-4eb5-a562-cbd4975ee244",
   "metadata": {},
   "outputs": [],
   "source": []
  }
 ],
 "metadata": {
  "kernelspec": {
   "display_name": "py39",
   "language": "python",
   "name": "py39"
  },
  "language_info": {
   "codemirror_mode": {
    "name": "ipython",
    "version": 3
   },
   "file_extension": ".py",
   "mimetype": "text/x-python",
   "name": "python",
   "nbconvert_exporter": "python",
   "pygments_lexer": "ipython3",
   "version": "3.9.12"
  }
 },
 "nbformat": 4,
 "nbformat_minor": 5
}
